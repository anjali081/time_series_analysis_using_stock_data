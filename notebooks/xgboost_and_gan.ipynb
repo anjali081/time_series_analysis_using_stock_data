{
  "nbformat": 4,
  "nbformat_minor": 0,
  "metadata": {
    "kernelspec": {
      "display_name": "Python 3",
      "language": "python",
      "name": "python3"
    },
    "language_info": {
      "codemirror_mode": {
        "name": "ipython",
        "version": 3
      },
      "file_extension": ".py",
      "mimetype": "text/x-python",
      "name": "python",
      "nbconvert_exporter": "python",
      "pygments_lexer": "ipython3",
      "version": "3.7.3"
    },
    "colab": {
      "name": "xgboost_and_gan.ipynb",
      "provenance": [],
      "collapsed_sections": []
    },
    "widgets": {
      "application/vnd.jupyter.widget-state+json": {
        "8372531071814ebabb6ef080eebc7089": {
          "model_module": "@jupyter-widgets/controls",
          "model_name": "HBoxModel",
          "state": {
            "_view_name": "HBoxView",
            "_dom_classes": [],
            "_model_name": "HBoxModel",
            "_view_module": "@jupyter-widgets/controls",
            "_model_module_version": "1.5.0",
            "_view_count": null,
            "_view_module_version": "1.5.0",
            "box_style": "",
            "layout": "IPY_MODEL_00b9642e9e3e435c87b310965f71437c",
            "_model_module": "@jupyter-widgets/controls",
            "children": [
              "IPY_MODEL_c6462f81602149fab28b81620cf3dce4",
              "IPY_MODEL_64e2906e8ef2449cba36f088b7fbb2ec"
            ]
          }
        },
        "00b9642e9e3e435c87b310965f71437c": {
          "model_module": "@jupyter-widgets/base",
          "model_name": "LayoutModel",
          "state": {
            "_view_name": "LayoutView",
            "grid_template_rows": null,
            "right": null,
            "justify_content": null,
            "_view_module": "@jupyter-widgets/base",
            "overflow": null,
            "_model_module_version": "1.2.0",
            "_view_count": null,
            "flex_flow": null,
            "width": null,
            "min_width": null,
            "border": null,
            "align_items": null,
            "bottom": null,
            "_model_module": "@jupyter-widgets/base",
            "top": null,
            "grid_column": null,
            "overflow_y": null,
            "overflow_x": null,
            "grid_auto_flow": null,
            "grid_area": null,
            "grid_template_columns": null,
            "flex": null,
            "_model_name": "LayoutModel",
            "justify_items": null,
            "grid_row": null,
            "max_height": null,
            "align_content": null,
            "visibility": null,
            "align_self": null,
            "height": null,
            "min_height": null,
            "padding": null,
            "grid_auto_rows": null,
            "grid_gap": null,
            "max_width": null,
            "order": null,
            "_view_module_version": "1.2.0",
            "grid_template_areas": null,
            "object_position": null,
            "object_fit": null,
            "grid_auto_columns": null,
            "margin": null,
            "display": null,
            "left": null
          }
        },
        "c6462f81602149fab28b81620cf3dce4": {
          "model_module": "@jupyter-widgets/controls",
          "model_name": "FloatProgressModel",
          "state": {
            "_view_name": "ProgressView",
            "style": "IPY_MODEL_df64c028ab3040ec9c368d503b1bae2e",
            "_dom_classes": [],
            "description": "100%",
            "_model_name": "FloatProgressModel",
            "bar_style": "success",
            "max": 3,
            "_view_module": "@jupyter-widgets/controls",
            "_model_module_version": "1.5.0",
            "value": 3,
            "_view_count": null,
            "_view_module_version": "1.5.0",
            "orientation": "horizontal",
            "min": 0,
            "description_tooltip": null,
            "_model_module": "@jupyter-widgets/controls",
            "layout": "IPY_MODEL_509a6b7141da4c4b867f65df5e4e0909"
          }
        },
        "64e2906e8ef2449cba36f088b7fbb2ec": {
          "model_module": "@jupyter-widgets/controls",
          "model_name": "HTMLModel",
          "state": {
            "_view_name": "HTMLView",
            "style": "IPY_MODEL_aa8d964c90c046ca9f9712d54bbf9d05",
            "_dom_classes": [],
            "description": "",
            "_model_name": "HTMLModel",
            "placeholder": "​",
            "_view_module": "@jupyter-widgets/controls",
            "_model_module_version": "1.5.0",
            "value": " 3/3 [00:13&lt;00:00,  4.42s/it]",
            "_view_count": null,
            "_view_module_version": "1.5.0",
            "description_tooltip": null,
            "_model_module": "@jupyter-widgets/controls",
            "layout": "IPY_MODEL_a89efa602646422f8cee0d3d0cae44e4"
          }
        },
        "df64c028ab3040ec9c368d503b1bae2e": {
          "model_module": "@jupyter-widgets/controls",
          "model_name": "ProgressStyleModel",
          "state": {
            "_view_name": "StyleView",
            "_model_name": "ProgressStyleModel",
            "description_width": "initial",
            "_view_module": "@jupyter-widgets/base",
            "_model_module_version": "1.5.0",
            "_view_count": null,
            "_view_module_version": "1.2.0",
            "bar_color": null,
            "_model_module": "@jupyter-widgets/controls"
          }
        },
        "509a6b7141da4c4b867f65df5e4e0909": {
          "model_module": "@jupyter-widgets/base",
          "model_name": "LayoutModel",
          "state": {
            "_view_name": "LayoutView",
            "grid_template_rows": null,
            "right": null,
            "justify_content": null,
            "_view_module": "@jupyter-widgets/base",
            "overflow": null,
            "_model_module_version": "1.2.0",
            "_view_count": null,
            "flex_flow": null,
            "width": null,
            "min_width": null,
            "border": null,
            "align_items": null,
            "bottom": null,
            "_model_module": "@jupyter-widgets/base",
            "top": null,
            "grid_column": null,
            "overflow_y": null,
            "overflow_x": null,
            "grid_auto_flow": null,
            "grid_area": null,
            "grid_template_columns": null,
            "flex": null,
            "_model_name": "LayoutModel",
            "justify_items": null,
            "grid_row": null,
            "max_height": null,
            "align_content": null,
            "visibility": null,
            "align_self": null,
            "height": null,
            "min_height": null,
            "padding": null,
            "grid_auto_rows": null,
            "grid_gap": null,
            "max_width": null,
            "order": null,
            "_view_module_version": "1.2.0",
            "grid_template_areas": null,
            "object_position": null,
            "object_fit": null,
            "grid_auto_columns": null,
            "margin": null,
            "display": null,
            "left": null
          }
        },
        "aa8d964c90c046ca9f9712d54bbf9d05": {
          "model_module": "@jupyter-widgets/controls",
          "model_name": "DescriptionStyleModel",
          "state": {
            "_view_name": "StyleView",
            "_model_name": "DescriptionStyleModel",
            "description_width": "",
            "_view_module": "@jupyter-widgets/base",
            "_model_module_version": "1.5.0",
            "_view_count": null,
            "_view_module_version": "1.2.0",
            "_model_module": "@jupyter-widgets/controls"
          }
        },
        "a89efa602646422f8cee0d3d0cae44e4": {
          "model_module": "@jupyter-widgets/base",
          "model_name": "LayoutModel",
          "state": {
            "_view_name": "LayoutView",
            "grid_template_rows": null,
            "right": null,
            "justify_content": null,
            "_view_module": "@jupyter-widgets/base",
            "overflow": null,
            "_model_module_version": "1.2.0",
            "_view_count": null,
            "flex_flow": null,
            "width": null,
            "min_width": null,
            "border": null,
            "align_items": null,
            "bottom": null,
            "_model_module": "@jupyter-widgets/base",
            "top": null,
            "grid_column": null,
            "overflow_y": null,
            "overflow_x": null,
            "grid_auto_flow": null,
            "grid_area": null,
            "grid_template_columns": null,
            "flex": null,
            "_model_name": "LayoutModel",
            "justify_items": null,
            "grid_row": null,
            "max_height": null,
            "align_content": null,
            "visibility": null,
            "align_self": null,
            "height": null,
            "min_height": null,
            "padding": null,
            "grid_auto_rows": null,
            "grid_gap": null,
            "max_width": null,
            "order": null,
            "_view_module_version": "1.2.0",
            "grid_template_areas": null,
            "object_position": null,
            "object_fit": null,
            "grid_auto_columns": null,
            "margin": null,
            "display": null,
            "left": null
          }
        }
      }
    }
  },
  "cells": [
    {
      "cell_type": "markdown",
      "metadata": {
        "id": "_gzGb7_EiT5p"
      },
      "source": [
        "In this notebook I've implemented XGBoost and GAN for time series forecast of stock prices"
      ]
    },
    {
      "cell_type": "markdown",
      "metadata": {
        "id": "xU_PKyJliiov"
      },
      "source": [
        "**XGBoost**"
      ]
    },
    {
      "cell_type": "markdown",
      "metadata": {
        "id": "7BvcanHrirzX"
      },
      "source": [
        "Importing required libraries and set parameters required to build the model"
      ]
    },
    {
      "cell_type": "code",
      "metadata": {
        "colab": {
          "base_uri": "https://localhost:8080/"
        },
        "id": "XXcKOqVm5zl4",
        "outputId": "85cdce28-4516-496a-cf6a-9e3dc234558d"
      },
      "source": [
        "!pip install chart_studio"
      ],
      "execution_count": null,
      "outputs": [
        {
          "output_type": "stream",
          "text": [
            "Collecting chart_studio\n",
            "\u001b[?25l  Downloading https://files.pythonhosted.org/packages/ca/ce/330794a6b6ca4b9182c38fc69dd2a9cbff60fd49421cb8648ee5fee352dc/chart_studio-1.1.0-py3-none-any.whl (64kB)\n",
            "\r\u001b[K     |█████                           | 10kB 11.2MB/s eta 0:00:01\r\u001b[K     |██████████▏                     | 20kB 16.3MB/s eta 0:00:01\r\u001b[K     |███████████████▎                | 30kB 14.2MB/s eta 0:00:01\r\u001b[K     |████████████████████▍           | 40kB 10.9MB/s eta 0:00:01\r\u001b[K     |█████████████████████████▍      | 51kB 8.5MB/s eta 0:00:01\r\u001b[K     |██████████████████████████████▌ | 61kB 9.0MB/s eta 0:00:01\r\u001b[K     |████████████████████████████████| 71kB 4.7MB/s \n",
            "\u001b[?25hRequirement already satisfied: plotly in /usr/local/lib/python3.6/dist-packages (from chart_studio) (4.4.1)\n",
            "Requirement already satisfied: six in /usr/local/lib/python3.6/dist-packages (from chart_studio) (1.15.0)\n",
            "Requirement already satisfied: requests in /usr/local/lib/python3.6/dist-packages (from chart_studio) (2.23.0)\n",
            "Requirement already satisfied: retrying>=1.3.3 in /usr/local/lib/python3.6/dist-packages (from chart_studio) (1.3.3)\n",
            "Requirement already satisfied: chardet<4,>=3.0.2 in /usr/local/lib/python3.6/dist-packages (from requests->chart_studio) (3.0.4)\n",
            "Requirement already satisfied: certifi>=2017.4.17 in /usr/local/lib/python3.6/dist-packages (from requests->chart_studio) (2020.12.5)\n",
            "Requirement already satisfied: idna<3,>=2.5 in /usr/local/lib/python3.6/dist-packages (from requests->chart_studio) (2.10)\n",
            "Requirement already satisfied: urllib3!=1.25.0,!=1.25.1,<1.26,>=1.21.1 in /usr/local/lib/python3.6/dist-packages (from requests->chart_studio) (1.24.3)\n",
            "Installing collected packages: chart-studio\n",
            "Successfully installed chart-studio-1.1.0\n"
          ],
          "name": "stdout"
        }
      ]
    },
    {
      "cell_type": "code",
      "metadata": {
        "colab": {
          "base_uri": "https://localhost:8080/"
        },
        "id": "pG1QPnuu5Xpd",
        "outputId": "1b0c2116-0c87-451b-ed92-b1399aa12684"
      },
      "source": [
        "import chart_studio.plotly as py\n",
        "import math\n",
        "import matplotlib\n",
        "import numpy as np\n",
        "import pandas as pd\n",
        "import plotly.graph_objs as go\n",
        "import seaborn as sns\n",
        "import time\n",
        "\n",
        "from datetime import date\n",
        "from matplotlib import pyplot as plt\n",
        "from pylab import rcParams\n",
        "from sklearn.metrics import mean_squared_error\n",
        "from sklearn.preprocessing import StandardScaler\n",
        "from tqdm import tqdm_notebook\n",
        "from xgboost import XGBRegressor\n",
        "\n",
        "%matplotlib inline\n",
        "\n",
        "\n",
        "#Setting parameters\n",
        "\n",
        "\n",
        "H = 21                         # Forecast horizon, in days. Note there are about 252 trading days in a year\n",
        "train_size = 252*3             # Use 3 years of data as train set. Note there are about 252 trading days in a year\n",
        "val_size = 252                 # Use 1 year of data as validation set\n",
        "N = 3                          # for feature at day t, we use lags from t-1, t-2, ..., t-N as features\n",
        "\n",
        "n_estimators = 100             # Number of boosted trees to fit. default = 100\n",
        "max_depth = 3                  # Maximum tree depth for base learners. default = 3\n",
        "learning_rate = 0.1            # Boosting learning rate (xgb’s “eta”). default = 0.1\n",
        "min_child_weight = 1           # Minimum sum of instance weight(hessian) needed in a child. default = 1\n",
        "subsample = 1                  # Subsample ratio of the training instance. default = 1\n",
        "colsample_bytree = 1           # Subsample ratio of columns when constructing each tree. default = 1\n",
        "colsample_bylevel = 1          # Subsample ratio of columns for each split, in each level. default = 1\n",
        "gamma = 0                      # Minimum loss reduction required to make a further partition on a leaf node of the tree. default=0\n",
        "\n",
        "model_seed = 100\n",
        "\n",
        "fontsize = 14\n",
        "ticklabelsize = 14\n",
        "#Setting train_val_size\n",
        "train_val_size = train_size + val_size # Size of train+validation set\n",
        "print(\"No. of days in train+validation set = \" + str(train_val_size))"
      ],
      "execution_count": null,
      "outputs": [
        {
          "output_type": "stream",
          "text": [
            "No. of days in train+validation set = 1008\n"
          ],
          "name": "stdout"
        }
      ]
    },
    {
      "cell_type": "markdown",
      "metadata": {
        "id": "oVMGUIpo5Xpg"
      },
      "source": [
        "Functions for validation metrics used for XGBoost"
      ]
    },
    {
      "cell_type": "code",
      "metadata": {
        "id": "6pMM5g875Xpj"
      },
      "source": [
        "def get_mape(y_true, y_pred): \n",
        "    \"\"\"\n",
        "    Compute mean absolute percentage error (MAPE)\n",
        "    \"\"\"\n",
        "    y_true, y_pred = np.array(y_true), np.array(y_pred)\n",
        "    return np.mean(np.abs((y_true - y_pred) / y_true)) * 100\n",
        "\n",
        "def get_mae(a, b):\n",
        "    \"\"\"\n",
        "    Comp mean absolute error e_t = E[|a_t - b_t|]. a and b can be lists.\n",
        "    Returns a vector of len = len(a) = len(b)\n",
        "    \"\"\"\n",
        "    return np.mean(abs(np.array(a)-np.array(b)))\n",
        "\n",
        "def get_rmse(a, b):\n",
        "    \"\"\"\n",
        "    Comp RMSE. a and b can be lists.\n",
        "    Returns a scalar.\n",
        "    \"\"\"\n",
        "    return math.sqrt(np.mean((np.array(a)-np.array(b))**2))"
      ],
      "execution_count": null,
      "outputs": []
    },
    {
      "cell_type": "markdown",
      "metadata": {
        "id": "-HWixm4PjU_s"
      },
      "source": [
        "1)Function to calculate Moving Average of stock prices  \r\n",
        "2)Building the model"
      ]
    },
    {
      "cell_type": "code",
      "metadata": {
        "id": "oYgBvi0x5Xpk"
      },
      "source": [
        "def get_mov_avg_std(df, col, N):\n",
        "    \"\"\"\n",
        "    Given a dataframe, get mean and std dev at timestep t using values from t-1, t-2, ..., t-N.\n",
        "    Inputs\n",
        "        df         : dataframe. Can be of any length.\n",
        "        col        : name of the column you want to calculate mean and std dev\n",
        "        N          : get mean and std dev at timestep t using values from t-1, t-2, ..., t-N\n",
        "    Outputs\n",
        "        df_out     : same as df but with additional column containing mean and std dev\n",
        "    \"\"\"\n",
        "    mean_list = df[col].rolling(window = N, min_periods=1).mean() # len(mean_list) = len(df)\n",
        "    std_list = df[col].rolling(window = N, min_periods=1).std()   # first value will be NaN, because normalized by N-1\n",
        "    \n",
        "    # Add one timestep to the predictions\n",
        "    mean_list = np.concatenate((np.array([np.nan]), np.array(mean_list[:-1])))\n",
        "    std_list = np.concatenate((np.array([np.nan]), np.array(std_list[:-1])))\n",
        "    \n",
        "    # Append mean_list to df\n",
        "    df_out = df.copy()\n",
        "    df_out[col + '_mean'] = mean_list\n",
        "    df_out[col + '_std'] = std_list\n",
        "    \n",
        "    return df_out\n",
        "\n",
        "def scale_row(row, feat_mean, feat_std):\n",
        "    \"\"\"\n",
        "    Given a pandas series in row, scale it to have 0 mean and var 1 using feat_mean and feat_std\n",
        "    Inputs\n",
        "        row      : pandas series. Need to scale this.\n",
        "        feat_mean: mean  \n",
        "        feat_std : standard deviation\n",
        "    Outputs\n",
        "        row_scaled : pandas series with same length as row, but scaled\n",
        "    \"\"\"\n",
        "    # If feat_std = 0 (this happens if adj_close doesn't change over N days), \n",
        "    # set it to a small number to avoid division by zero\n",
        "    feat_std = 0.001 if feat_std == 0 else feat_std\n",
        "    \n",
        "    row_scaled = (row-feat_mean) / feat_std\n",
        "    \n",
        "    return row_scaled\n",
        "\n",
        "def get_mape(y_true, y_pred): \n",
        "    \"\"\"\n",
        "    Compute mean absolute percentage error (MAPE)\n",
        "    \"\"\"\n",
        "    y_true, y_pred = np.array(y_true), np.array(y_pred)\n",
        "    return np.mean(np.abs((y_true - y_pred) / y_true)) * 100\n",
        "\n",
        "def train_pred_eval_model(X_train_scaled, \\\n",
        "                          y_train_scaled, \\\n",
        "                          X_test_scaled, \\\n",
        "                          y_test, \\\n",
        "                          col_mean, \\\n",
        "                          col_std, \\\n",
        "                          seed=100, \\\n",
        "                          n_estimators=100, \\\n",
        "                          max_depth=3, \\\n",
        "                          learning_rate=0.1, \\\n",
        "                          min_child_weight=1, \\\n",
        "                          subsample=1, \\\n",
        "                          colsample_bytree=1, \\\n",
        "                          colsample_bylevel=1, \\\n",
        "                          gamma=0):\n",
        "    '''\n",
        "    Train model, do prediction, scale back to original range and do evaluation\n",
        "    Use XGBoost here.\n",
        "    Inputs\n",
        "        X_train_scaled     : features for training. Scaled to have mean 0 and variance 1\n",
        "        y_train_scaled     : target for training. Scaled to have mean 0 and variance 1\n",
        "        X_test_scaled      : features for test. Each sample is scaled to mean 0 and variance 1\n",
        "        y_test             : target for test. Actual values, not scaled.\n",
        "        col_mean           : means used to scale each sample of X_test_scaled. Same length as X_test_scaled and y_test\n",
        "        col_std            : standard deviations used to scale each sample of X_test_scaled. Same length as X_test_scaled and y_test\n",
        "        seed               : model seed\n",
        "        n_estimators       : number of boosted trees to fit\n",
        "        max_depth          : maximum tree depth for base learners\n",
        "        learning_rate      : boosting learning rate (xgb’s “eta”)\n",
        "        min_child_weight   : minimum sum of instance weight(hessian) needed in a child\n",
        "        subsample          : subsample ratio of the training instance\n",
        "        colsample_bytree   : subsample ratio of columns when constructing each tree\n",
        "        colsample_bylevel  : subsample ratio of columns for each split, in each level\n",
        "        gamma              : \n",
        "    Outputs\n",
        "        rmse               : root mean square error of y_test and est\n",
        "        mape               : mean absolute percentage error of y_test and est\n",
        "        est                : predicted values. Same length as y_test\n",
        "    '''\n",
        "\n",
        "    model = XGBRegressor(seed=model_seed,\n",
        "                         n_estimators=n_estimators,\n",
        "                         max_depth=max_depth,\n",
        "                         learning_rate=learning_rate,\n",
        "                         min_child_weight=min_child_weight,\n",
        "                         subsample=subsample,\n",
        "                         colsample_bytree=colsample_bytree,\n",
        "                         colsample_bylevel=colsample_bylevel,\n",
        "                         gamma=gamma)\n",
        "    \n",
        "    # Train the model\n",
        "    model.fit(X_train_scaled, y_train_scaled)\n",
        "    \n",
        "    # Get predicted labels and scale back to original range\n",
        "    est_scaled = model.predict(X_test_scaled)\n",
        "    est = est_scaled * col_std + col_mean\n",
        "\n",
        "    # Calculate RMSE\n",
        "    rmse = math.sqrt(mean_squared_error(y_test, est))\n",
        "    mape = get_mape(y_test, est)\n",
        "    \n",
        "    return rmse, mape, est\n",
        "\n",
        "def pred_xgboost(model, series, N, H):\n",
        "    \"\"\"\n",
        "    Do recursive forecasting using xgboost\n",
        "    Inputs\n",
        "        model : the xgboost model\n",
        "        series: numpy array of shape (len(series),). The time series we want to do recursive forecasting on\n",
        "        N     : for feature at day t, we use lags from t-1, t-2, ..., t-N as features\n",
        "        H     : forecast horizon\n",
        "    Outputs\n",
        "        Times series of predictions. Numpy array of shape (H,).\n",
        "    \"\"\"\n",
        "    forecast = series.copy()\n",
        "    for n in range(H):\n",
        "        est = model.predict(forecast[-N:].reshape(1,-1))\n",
        "        forecast = np.append(forecast, est)\n",
        "\n",
        "    return forecast[-H:]"
      ],
      "execution_count": null,
      "outputs": []
    },
    {
      "cell_type": "markdown",
      "metadata": {
        "id": "8swbDBHA5Xpm"
      },
      "source": [
        "Importing the dataframe"
      ]
    },
    {
      "cell_type": "code",
      "metadata": {
        "colab": {
          "base_uri": "https://localhost:8080/",
          "height": 206
        },
        "id": "1JpM0DK_5Xpn",
        "outputId": "20702445-d3c9-485e-af95-4917c0bf68a4"
      },
      "source": [
        "df = pd.read_csv(\"/content/VTI_20130102_20181231.csv\")\n",
        "\n",
        "# Convert Date column to datetime\n",
        "df.loc[:, 'Date'] = pd.to_datetime(df['Date'],format='%Y-%m-%d')\n",
        "\n",
        "# Change all column headings to be lower case, and remove spacing\n",
        "df.columns = [str(x).lower().replace(' ', '_') for x in df.columns]\n",
        "\n",
        "# Get month of each sample\n",
        "df['month'] = df['date'].dt.month\n",
        "\n",
        "# Sort by datetime\n",
        "df.sort_values(by='date', inplace=True, ascending=True)\n",
        "\n",
        "df.head()"
      ],
      "execution_count": null,
      "outputs": [
        {
          "output_type": "execute_result",
          "data": {
            "text/html": [
              "<div>\n",
              "<style scoped>\n",
              "    .dataframe tbody tr th:only-of-type {\n",
              "        vertical-align: middle;\n",
              "    }\n",
              "\n",
              "    .dataframe tbody tr th {\n",
              "        vertical-align: top;\n",
              "    }\n",
              "\n",
              "    .dataframe thead th {\n",
              "        text-align: right;\n",
              "    }\n",
              "</style>\n",
              "<table border=\"1\" class=\"dataframe\">\n",
              "  <thead>\n",
              "    <tr style=\"text-align: right;\">\n",
              "      <th></th>\n",
              "      <th>date</th>\n",
              "      <th>open</th>\n",
              "      <th>high</th>\n",
              "      <th>low</th>\n",
              "      <th>close</th>\n",
              "      <th>adj_close</th>\n",
              "      <th>volume</th>\n",
              "      <th>month</th>\n",
              "    </tr>\n",
              "  </thead>\n",
              "  <tbody>\n",
              "    <tr>\n",
              "      <th>0</th>\n",
              "      <td>2013-01-02</td>\n",
              "      <td>74.529999</td>\n",
              "      <td>75.150002</td>\n",
              "      <td>74.500000</td>\n",
              "      <td>75.139999</td>\n",
              "      <td>66.997757</td>\n",
              "      <td>5037200</td>\n",
              "      <td>1</td>\n",
              "    </tr>\n",
              "    <tr>\n",
              "      <th>1</th>\n",
              "      <td>2013-01-03</td>\n",
              "      <td>75.120003</td>\n",
              "      <td>75.370003</td>\n",
              "      <td>74.839996</td>\n",
              "      <td>75.029999</td>\n",
              "      <td>66.899689</td>\n",
              "      <td>2634600</td>\n",
              "      <td>1</td>\n",
              "    </tr>\n",
              "    <tr>\n",
              "      <th>2</th>\n",
              "      <td>2013-01-04</td>\n",
              "      <td>75.139999</td>\n",
              "      <td>75.519997</td>\n",
              "      <td>74.989998</td>\n",
              "      <td>75.410004</td>\n",
              "      <td>67.238510</td>\n",
              "      <td>2512900</td>\n",
              "      <td>1</td>\n",
              "    </tr>\n",
              "    <tr>\n",
              "      <th>3</th>\n",
              "      <td>2013-01-07</td>\n",
              "      <td>75.180000</td>\n",
              "      <td>75.279999</td>\n",
              "      <td>74.949997</td>\n",
              "      <td>75.209999</td>\n",
              "      <td>67.060173</td>\n",
              "      <td>2511200</td>\n",
              "      <td>1</td>\n",
              "    </tr>\n",
              "    <tr>\n",
              "      <th>4</th>\n",
              "      <td>2013-01-08</td>\n",
              "      <td>75.110001</td>\n",
              "      <td>75.180000</td>\n",
              "      <td>74.699997</td>\n",
              "      <td>75.010002</td>\n",
              "      <td>66.881859</td>\n",
              "      <td>1407900</td>\n",
              "      <td>1</td>\n",
              "    </tr>\n",
              "  </tbody>\n",
              "</table>\n",
              "</div>"
            ],
            "text/plain": [
              "        date       open       high  ...  adj_close   volume  month\n",
              "0 2013-01-02  74.529999  75.150002  ...  66.997757  5037200      1\n",
              "1 2013-01-03  75.120003  75.370003  ...  66.899689  2634600      1\n",
              "2 2013-01-04  75.139999  75.519997  ...  67.238510  2512900      1\n",
              "3 2013-01-07  75.180000  75.279999  ...  67.060173  2511200      1\n",
              "4 2013-01-08  75.110001  75.180000  ...  66.881859  1407900      1\n",
              "\n",
              "[5 rows x 8 columns]"
            ]
          },
          "metadata": {
            "tags": []
          },
          "execution_count": 30
        }
      ]
    },
    {
      "cell_type": "markdown",
      "metadata": {
        "id": "YXQ1UhiQjq0o"
      },
      "source": [
        "Visualisation, time trend can be easily seen"
      ]
    },
    {
      "cell_type": "code",
      "metadata": {
        "id": "fQh5k1A75Xpo",
        "colab": {
          "base_uri": "https://localhost:8080/",
          "height": 483
        },
        "outputId": "72138b56-e939-40a2-e743-74f8aa08bf50"
      },
      "source": [
        "# Plot adjusted close over time\n",
        "rcParams['figure.figsize'] = 10, 8 # width 10, height 8\n",
        "\n",
        "ax = df.plot(x='date', y='close', style='b-', grid=True)\n",
        "ax.set_xlabel(\"date\")\n",
        "ax.set_ylabel(\"USD\")"
      ],
      "execution_count": null,
      "outputs": [
        {
          "output_type": "execute_result",
          "data": {
            "text/plain": [
              "Text(0, 0.5, 'USD')"
            ]
          },
          "metadata": {
            "tags": []
          },
          "execution_count": 31
        },
        {
          "output_type": "display_data",
          "data": {
            "image/png": "[encoded data removed]",
            "text/plain": [
              "<Figure size 720x576 with 1 Axes>"
            ]
          },
          "metadata": {
            "tags": [],
            "needs_background": "light"
          }
        }
      ]
    },
    {
      "cell_type": "code",
      "metadata": {
        "id": "uI7J5v6D5Xpp"
      },
      "source": [
        ""
      ],
      "execution_count": null,
      "outputs": []
    },
    {
      "cell_type": "markdown",
      "metadata": {
        "id": "I1qFr68O5Xpr"
      },
      "source": [
        "Removing the unneccessary columns"
      ]
    },
    {
      "cell_type": "code",
      "metadata": {
        "id": "8VKgtFTD5Xps"
      },
      "source": [
        "# Remove columns which you can't use as features\n",
        "df.drop(['open', 'high', 'low', 'adj_close', 'volume'], axis=1, inplace=True)"
      ],
      "execution_count": null,
      "outputs": []
    },
    {
      "cell_type": "markdown",
      "metadata": {
        "id": "bg58qg2w5Xpt"
      },
      "source": [
        "We use lags up to N number of days to use as features."
      ]
    },
    {
      "cell_type": "code",
      "metadata": {
        "id": "AybchikH5Xpu",
        "colab": {
          "base_uri": "https://localhost:8080/"
        },
        "outputId": "e89bdd62-8530-4950-bd31-057b647797ed"
      },
      "source": [
        "# Add a column 'order_day' to indicate the order of the rows by date\n",
        "df['order_day'] = [x for x in list(range(len(df)))]\n",
        "\n",
        "# merging_keys\n",
        "merging_keys = ['order_day']\n",
        "\n",
        "# List of columns that we will use to create lags\n",
        "lag_cols = ['close']\n",
        "lag_cols"
      ],
      "execution_count": null,
      "outputs": [
        {
          "output_type": "execute_result",
          "data": {
            "text/plain": [
              "['close']"
            ]
          },
          "metadata": {
            "tags": []
          },
          "execution_count": 33
        }
      ]
    },
    {
      "cell_type": "code",
      "metadata": {
        "colab": {
          "base_uri": "https://localhost:8080/",
          "height": 349,
          "referenced_widgets": [
            "8372531071814ebabb6ef080eebc7089",
            "00b9642e9e3e435c87b310965f71437c",
            "c6462f81602149fab28b81620cf3dce4",
            "64e2906e8ef2449cba36f088b7fbb2ec",
            "df64c028ab3040ec9c368d503b1bae2e",
            "509a6b7141da4c4b867f65df5e4e0909",
            "aa8d964c90c046ca9f9712d54bbf9d05",
            "a89efa602646422f8cee0d3d0cae44e4"
          ]
        },
        "id": "05wGSFzA5Xpv",
        "outputId": "95983984-e1cf-4122-9868-de1d2ef6fec9"
      },
      "source": [
        "shift_range = [x+1 for x in range(N)]\n",
        "\n",
        "for shift in tqdm_notebook(shift_range):\n",
        "    train_shift = df[merging_keys + lag_cols].copy()\n",
        "    \n",
        "    # E.g. order_day of 0 becomes 1, for shift = 1.\n",
        "    # So when this is merged with order_day of 1 in df, this will represent lag of 1.\n",
        "    train_shift['order_day'] = train_shift['order_day'] + shift\n",
        "    \n",
        "    foo = lambda x: '{}_lag_{}'.format(x, shift) if x in lag_cols else x\n",
        "    train_shift = train_shift.rename(columns=foo)\n",
        "\n",
        "    df = pd.merge(df, train_shift, on=merging_keys, how='left') #.fillna(0)\n",
        "    \n",
        "del train_shift\n",
        "\n",
        "# Remove the first N rows which contain NaNs\n",
        "df = df[N:]\n",
        "    \n",
        "df.head()"
      ],
      "execution_count": null,
      "outputs": [
        {
          "output_type": "stream",
          "text": [
            "/usr/local/lib/python3.6/dist-packages/ipykernel_launcher.py:3: TqdmDeprecationWarning:\n",
            "\n",
            "This function will be removed in tqdm==5.0.0\n",
            "Please use `tqdm.notebook.tqdm` instead of `tqdm.tqdm_notebook`\n",
            "\n"
          ],
          "name": "stderr"
        },
        {
          "output_type": "display_data",
          "data": {
            "application/vnd.jupyter.widget-view+json": {
              "model_id": "8372531071814ebabb6ef080eebc7089",
              "version_minor": 0,
              "version_major": 2
            },
            "text/plain": [
              "HBox(children=(FloatProgress(value=0.0, max=3.0), HTML(value='')))"
            ]
          },
          "metadata": {
            "tags": []
          }
        },
        {
          "output_type": "stream",
          "text": [
            "\n"
          ],
          "name": "stdout"
        },
        {
          "output_type": "execute_result",
          "data": {
            "text/html": [
              "<div>\n",
              "<style scoped>\n",
              "    .dataframe tbody tr th:only-of-type {\n",
              "        vertical-align: middle;\n",
              "    }\n",
              "\n",
              "    .dataframe tbody tr th {\n",
              "        vertical-align: top;\n",
              "    }\n",
              "\n",
              "    .dataframe thead th {\n",
              "        text-align: right;\n",
              "    }\n",
              "</style>\n",
              "<table border=\"1\" class=\"dataframe\">\n",
              "  <thead>\n",
              "    <tr style=\"text-align: right;\">\n",
              "      <th></th>\n",
              "      <th>date</th>\n",
              "      <th>close</th>\n",
              "      <th>month</th>\n",
              "      <th>order_day</th>\n",
              "      <th>close_lag_1</th>\n",
              "      <th>close_lag_2</th>\n",
              "      <th>close_lag_3</th>\n",
              "    </tr>\n",
              "  </thead>\n",
              "  <tbody>\n",
              "    <tr>\n",
              "      <th>3</th>\n",
              "      <td>2013-01-07</td>\n",
              "      <td>75.209999</td>\n",
              "      <td>1</td>\n",
              "      <td>3</td>\n",
              "      <td>75.410004</td>\n",
              "      <td>75.029999</td>\n",
              "      <td>75.139999</td>\n",
              "    </tr>\n",
              "    <tr>\n",
              "      <th>4</th>\n",
              "      <td>2013-01-08</td>\n",
              "      <td>75.010002</td>\n",
              "      <td>1</td>\n",
              "      <td>4</td>\n",
              "      <td>75.209999</td>\n",
              "      <td>75.410004</td>\n",
              "      <td>75.029999</td>\n",
              "    </tr>\n",
              "    <tr>\n",
              "      <th>5</th>\n",
              "      <td>2013-01-09</td>\n",
              "      <td>75.239998</td>\n",
              "      <td>1</td>\n",
              "      <td>5</td>\n",
              "      <td>75.010002</td>\n",
              "      <td>75.209999</td>\n",
              "      <td>75.410004</td>\n",
              "    </tr>\n",
              "    <tr>\n",
              "      <th>6</th>\n",
              "      <td>2013-01-10</td>\n",
              "      <td>75.760002</td>\n",
              "      <td>1</td>\n",
              "      <td>6</td>\n",
              "      <td>75.239998</td>\n",
              "      <td>75.010002</td>\n",
              "      <td>75.209999</td>\n",
              "    </tr>\n",
              "    <tr>\n",
              "      <th>7</th>\n",
              "      <td>2013-01-11</td>\n",
              "      <td>75.769997</td>\n",
              "      <td>1</td>\n",
              "      <td>7</td>\n",
              "      <td>75.760002</td>\n",
              "      <td>75.239998</td>\n",
              "      <td>75.010002</td>\n",
              "    </tr>\n",
              "  </tbody>\n",
              "</table>\n",
              "</div>"
            ],
            "text/plain": [
              "        date      close  month  ...  close_lag_1  close_lag_2  close_lag_3\n",
              "3 2013-01-07  75.209999      1  ...    75.410004    75.029999    75.139999\n",
              "4 2013-01-08  75.010002      1  ...    75.209999    75.410004    75.029999\n",
              "5 2013-01-09  75.239998      1  ...    75.010002    75.209999    75.410004\n",
              "6 2013-01-10  75.760002      1  ...    75.239998    75.010002    75.209999\n",
              "7 2013-01-11  75.769997      1  ...    75.760002    75.239998    75.010002\n",
              "\n",
              "[5 rows x 7 columns]"
            ]
          },
          "metadata": {
            "tags": []
          },
          "execution_count": 34
        }
      ]
    },
    {
      "cell_type": "code",
      "metadata": {
        "id": "KdrwZD4v5Xpv",
        "colab": {
          "base_uri": "https://localhost:8080/"
        },
        "outputId": "5febc590-ca88-4faf-fc46-75f2a139b10a"
      },
      "source": [
        "df.info()"
      ],
      "execution_count": null,
      "outputs": [
        {
          "output_type": "stream",
          "text": [
            "<class 'pandas.core.frame.DataFrame'>\n",
            "Int64Index: 1506 entries, 3 to 1508\n",
            "Data columns (total 7 columns):\n",
            " #   Column       Non-Null Count  Dtype         \n",
            "---  ------       --------------  -----         \n",
            " 0   date         1506 non-null   datetime64[ns]\n",
            " 1   close        1506 non-null   float64       \n",
            " 2   month        1506 non-null   int64         \n",
            " 3   order_day    1506 non-null   int64         \n",
            " 4   close_lag_1  1506 non-null   float64       \n",
            " 5   close_lag_2  1506 non-null   float64       \n",
            " 6   close_lag_3  1506 non-null   float64       \n",
            "dtypes: datetime64[ns](1), float64(4), int64(2)\n",
            "memory usage: 94.1 KB\n"
          ],
          "name": "stdout"
        }
      ]
    },
    {
      "cell_type": "markdown",
      "metadata": {
        "id": "clCKsr0K5Xpy"
      },
      "source": [
        "Get mean and std dev at timestamp t using values from t-1, ..., t-N"
      ]
    },
    {
      "cell_type": "code",
      "metadata": {
        "id": "L4QkmupE5Xpy",
        "colab": {
          "base_uri": "https://localhost:8080/",
          "height": 206
        },
        "outputId": "133a7f32-c42f-4ef6-c097-99ea9c35003d"
      },
      "source": [
        "cols_list = [\"close\"]\n",
        "\n",
        "for col in cols_list:\n",
        "    df = get_mov_avg_std(df, col, N)\n",
        "df.head()"
      ],
      "execution_count": null,
      "outputs": [
        {
          "output_type": "execute_result",
          "data": {
            "text/html": [
              "<div>\n",
              "<style scoped>\n",
              "    .dataframe tbody tr th:only-of-type {\n",
              "        vertical-align: middle;\n",
              "    }\n",
              "\n",
              "    .dataframe tbody tr th {\n",
              "        vertical-align: top;\n",
              "    }\n",
              "\n",
              "    .dataframe thead th {\n",
              "        text-align: right;\n",
              "    }\n",
              "</style>\n",
              "<table border=\"1\" class=\"dataframe\">\n",
              "  <thead>\n",
              "    <tr style=\"text-align: right;\">\n",
              "      <th></th>\n",
              "      <th>date</th>\n",
              "      <th>close</th>\n",
              "      <th>month</th>\n",
              "      <th>order_day</th>\n",
              "      <th>close_lag_1</th>\n",
              "      <th>close_lag_2</th>\n",
              "      <th>close_lag_3</th>\n",
              "      <th>close_mean</th>\n",
              "      <th>close_std</th>\n",
              "    </tr>\n",
              "  </thead>\n",
              "  <tbody>\n",
              "    <tr>\n",
              "      <th>3</th>\n",
              "      <td>2013-01-07</td>\n",
              "      <td>75.209999</td>\n",
              "      <td>1</td>\n",
              "      <td>3</td>\n",
              "      <td>75.410004</td>\n",
              "      <td>75.029999</td>\n",
              "      <td>75.139999</td>\n",
              "      <td>NaN</td>\n",
              "      <td>NaN</td>\n",
              "    </tr>\n",
              "    <tr>\n",
              "      <th>4</th>\n",
              "      <td>2013-01-08</td>\n",
              "      <td>75.010002</td>\n",
              "      <td>1</td>\n",
              "      <td>4</td>\n",
              "      <td>75.209999</td>\n",
              "      <td>75.410004</td>\n",
              "      <td>75.029999</td>\n",
              "      <td>75.209999</td>\n",
              "      <td>NaN</td>\n",
              "    </tr>\n",
              "    <tr>\n",
              "      <th>5</th>\n",
              "      <td>2013-01-09</td>\n",
              "      <td>75.239998</td>\n",
              "      <td>1</td>\n",
              "      <td>5</td>\n",
              "      <td>75.010002</td>\n",
              "      <td>75.209999</td>\n",
              "      <td>75.410004</td>\n",
              "      <td>75.110000</td>\n",
              "      <td>0.141419</td>\n",
              "    </tr>\n",
              "    <tr>\n",
              "      <th>6</th>\n",
              "      <td>2013-01-10</td>\n",
              "      <td>75.760002</td>\n",
              "      <td>1</td>\n",
              "      <td>6</td>\n",
              "      <td>75.239998</td>\n",
              "      <td>75.010002</td>\n",
              "      <td>75.209999</td>\n",
              "      <td>75.153333</td>\n",
              "      <td>0.125031</td>\n",
              "    </tr>\n",
              "    <tr>\n",
              "      <th>7</th>\n",
              "      <td>2013-01-11</td>\n",
              "      <td>75.769997</td>\n",
              "      <td>1</td>\n",
              "      <td>7</td>\n",
              "      <td>75.760002</td>\n",
              "      <td>75.239998</td>\n",
              "      <td>75.010002</td>\n",
              "      <td>75.336667</td>\n",
              "      <td>0.384231</td>\n",
              "    </tr>\n",
              "  </tbody>\n",
              "</table>\n",
              "</div>"
            ],
            "text/plain": [
              "        date      close  month  ...  close_lag_3  close_mean  close_std\n",
              "3 2013-01-07  75.209999      1  ...    75.139999         NaN        NaN\n",
              "4 2013-01-08  75.010002      1  ...    75.029999   75.209999        NaN\n",
              "5 2013-01-09  75.239998      1  ...    75.410004   75.110000   0.141419\n",
              "6 2013-01-10  75.760002      1  ...    75.209999   75.153333   0.125031\n",
              "7 2013-01-11  75.769997      1  ...    75.010002   75.336667   0.384231\n",
              "\n",
              "[5 rows x 9 columns]"
            ]
          },
          "metadata": {
            "tags": []
          },
          "execution_count": 36
        }
      ]
    },
    {
      "cell_type": "markdown",
      "metadata": {
        "id": "mc90hr855Xp0"
      },
      "source": [
        "Predict for a specific H (forecast horizon) and a specific date"
      ]
    },
    {
      "cell_type": "code",
      "metadata": {
        "id": "rVlqlkTn5Xp1",
        "colab": {
          "base_uri": "https://localhost:8080/"
        },
        "outputId": "5002b435-c7f5-4781-c2a7-9c968406ca3a"
      },
      "source": [
        "i = 1008 # Predict for day i, for the next H-1 days. Note indexing of days start from 0.\n",
        "print(\"Predicting on day %d, date %s, with forecast horizon H = %d\" % (i, df.iloc[i]['date'], H))"
      ],
      "execution_count": null,
      "outputs": [
        {
          "output_type": "stream",
          "text": [
            "Predicting on day 1008, date 2017-01-06 00:00:00, with forecast horizon H = 21\n"
          ],
          "name": "stdout"
        }
      ]
    },
    {
      "cell_type": "markdown",
      "metadata": {
        "id": "jNucwJzg5Xp2"
      },
      "source": [
        "Split into train, and test"
      ]
    },
    {
      "cell_type": "code",
      "metadata": {
        "id": "fH_-BS_-5Xp2",
        "colab": {
          "base_uri": "https://localhost:8080/"
        },
        "outputId": "2885b8e4-0d10-411e-befc-941c4b8eb079"
      },
      "source": [
        "train = df[i-train_val_size:i]\n",
        "test = df[i:i+H]\n",
        "print(\"train.shape = \" + str(train.shape))\n",
        "print(\"test.shape = \" + str(test.shape))"
      ],
      "execution_count": null,
      "outputs": [
        {
          "output_type": "stream",
          "text": [
            "train.shape = (1008, 9)\n",
            "test.shape = (21, 9)\n"
          ],
          "name": "stdout"
        }
      ]
    },
    {
      "cell_type": "markdown",
      "metadata": {
        "id": "DaKXBvxO5Xp2"
      },
      "source": [
        "Scale the train, and test set"
      ]
    },
    {
      "cell_type": "code",
      "metadata": {
        "id": "k5SpuKsx5Xp4",
        "colab": {
          "base_uri": "https://localhost:8080/",
          "height": 262
        },
        "outputId": "6137db4c-6002-4ff5-daa1-991367ff1d7d"
      },
      "source": [
        "cols_to_scale = [\"close\"]\n",
        "\n",
        "for n in range(1,N+1):\n",
        "    cols_to_scale.append(\"close_lag_\"+str(n))\n",
        "    \n",
        "# Do scaling for train set\n",
        "# Here we only scale the train dataset, and not the entire dataset to prevent information leak\n",
        "scaler = StandardScaler()\n",
        "train_scaled = scaler.fit_transform(train[cols_to_scale])\n",
        "print(\"scaler.mean_ = \" + str(scaler.mean_)) # Gives the mean of each column\n",
        "print(\"scaler.var_ = \" + str(scaler.var_))   # Give the var of each column\n",
        "\n",
        "# Convert the numpy array back into pandas dataframe\n",
        "train_scaled = pd.DataFrame(train_scaled, columns=cols_to_scale)\n",
        "train_scaled[['date', 'month']] = train.reset_index()[['date', 'month']]\n",
        "print(\"train_scaled.shape = \" + str(train_scaled.shape))\n",
        "train_scaled.head()"
      ],
      "execution_count": null,
      "outputs": [
        {
          "output_type": "stream",
          "text": [
            "scaler.mean_ = [99.85261906 99.81149803 99.76977185 99.72903772]\n",
            "scaler.var_ = [ 99.34734866  99.65140216  99.96273271 100.29507484]\n",
            "train_scaled.shape = (1008, 6)\n"
          ],
          "name": "stdout"
        },
        {
          "output_type": "execute_result",
          "data": {
            "text/html": [
              "<div>\n",
              "<style scoped>\n",
              "    .dataframe tbody tr th:only-of-type {\n",
              "        vertical-align: middle;\n",
              "    }\n",
              "\n",
              "    .dataframe tbody tr th {\n",
              "        vertical-align: top;\n",
              "    }\n",
              "\n",
              "    .dataframe thead th {\n",
              "        text-align: right;\n",
              "    }\n",
              "</style>\n",
              "<table border=\"1\" class=\"dataframe\">\n",
              "  <thead>\n",
              "    <tr style=\"text-align: right;\">\n",
              "      <th></th>\n",
              "      <th>close</th>\n",
              "      <th>close_lag_1</th>\n",
              "      <th>close_lag_2</th>\n",
              "      <th>close_lag_3</th>\n",
              "      <th>date</th>\n",
              "      <th>month</th>\n",
              "    </tr>\n",
              "  </thead>\n",
              "  <tbody>\n",
              "    <tr>\n",
              "      <th>0</th>\n",
              "      <td>-2.472343</td>\n",
              "      <td>-2.444414</td>\n",
              "      <td>-2.474438</td>\n",
              "      <td>-2.455284</td>\n",
              "      <td>2013-01-07</td>\n",
              "      <td>1</td>\n",
              "    </tr>\n",
              "    <tr>\n",
              "      <th>1</th>\n",
              "      <td>-2.492408</td>\n",
              "      <td>-2.464449</td>\n",
              "      <td>-2.436431</td>\n",
              "      <td>-2.466268</td>\n",
              "      <td>2013-01-08</td>\n",
              "      <td>1</td>\n",
              "    </tr>\n",
              "    <tr>\n",
              "      <th>2</th>\n",
              "      <td>-2.469333</td>\n",
              "      <td>-2.484484</td>\n",
              "      <td>-2.456435</td>\n",
              "      <td>-2.428323</td>\n",
              "      <td>2013-01-09</td>\n",
              "      <td>1</td>\n",
              "    </tr>\n",
              "    <tr>\n",
              "      <th>3</th>\n",
              "      <td>-2.417162</td>\n",
              "      <td>-2.461444</td>\n",
              "      <td>-2.476438</td>\n",
              "      <td>-2.448294</td>\n",
              "      <td>2013-01-10</td>\n",
              "      <td>1</td>\n",
              "    </tr>\n",
              "    <tr>\n",
              "      <th>4</th>\n",
              "      <td>-2.416160</td>\n",
              "      <td>-2.409353</td>\n",
              "      <td>-2.453435</td>\n",
              "      <td>-2.468265</td>\n",
              "      <td>2013-01-11</td>\n",
              "      <td>1</td>\n",
              "    </tr>\n",
              "  </tbody>\n",
              "</table>\n",
              "</div>"
            ],
            "text/plain": [
              "      close  close_lag_1  close_lag_2  close_lag_3       date  month\n",
              "0 -2.472343    -2.444414    -2.474438    -2.455284 2013-01-07      1\n",
              "1 -2.492408    -2.464449    -2.436431    -2.466268 2013-01-08      1\n",
              "2 -2.469333    -2.484484    -2.456435    -2.428323 2013-01-09      1\n",
              "3 -2.417162    -2.461444    -2.476438    -2.448294 2013-01-10      1\n",
              "4 -2.416160    -2.409353    -2.453435    -2.468265 2013-01-11      1"
            ]
          },
          "metadata": {
            "tags": []
          },
          "execution_count": 39
        }
      ]
    },
    {
      "cell_type": "markdown",
      "metadata": {
        "id": "bvdEByBC5Xp5"
      },
      "source": [
        "Split into X and y"
      ]
    },
    {
      "cell_type": "code",
      "metadata": {
        "id": "Y2Uo2wYs5Xp6",
        "colab": {
          "base_uri": "https://localhost:8080/"
        },
        "outputId": "fa8f48dc-7204-4a6a-8123-50794e869f97"
      },
      "source": [
        "features = []\n",
        "for n in range(1,N+1):\n",
        "    features.append(\"close_lag_\"+str(n))\n",
        "\n",
        "target = \"close\"\n",
        "\n",
        "# Split into X and y\n",
        "X_train = train[features]\n",
        "y_train = train[target]\n",
        "# X_sample = test[features]\n",
        "# y_sample = test[target]\n",
        "print(\"X_train.shape = \" + str(X_train.shape))\n",
        "print(\"y_train.shape = \" + str(y_train.shape))\n",
        "# print(\"X_sample.shape = \" + str(X_sample.shape))\n",
        "# print(\"y_sample.shape = \" + str(y_sample.shape))"
      ],
      "execution_count": null,
      "outputs": [
        {
          "output_type": "stream",
          "text": [
            "X_train.shape = (1008, 3)\n",
            "y_train.shape = (1008,)\n"
          ],
          "name": "stdout"
        }
      ]
    },
    {
      "cell_type": "code",
      "metadata": {
        "id": "-FcI_67M5Xp6",
        "colab": {
          "base_uri": "https://localhost:8080/"
        },
        "outputId": "0d5ae850-00ce-493a-8b56-4eb829902cb8"
      },
      "source": [
        "# Split into X and y\n",
        "X_train_scaled = train_scaled[features]\n",
        "y_train_scaled = train_scaled[target]\n",
        "# X_sample_scaled = test_scaled[features]\n",
        "print(\"X_train_scaled.shape = \" + str(X_train_scaled.shape))\n",
        "print(\"y_train_scaled.shape = \" + str(y_train_scaled.shape))\n",
        "# print(\"X_sample_scaled.shape = \" + str(X_sample_scaled.shape))"
      ],
      "execution_count": null,
      "outputs": [
        {
          "output_type": "stream",
          "text": [
            "X_train_scaled.shape = (1008, 3)\n",
            "y_train_scaled.shape = (1008,)\n"
          ],
          "name": "stdout"
        }
      ]
    },
    {
      "cell_type": "markdown",
      "metadata": {
        "collapsed": true,
        "id": "FDGVL7aF5Xp9"
      },
      "source": [
        "Train the model using XGBoost"
      ]
    },
    {
      "cell_type": "code",
      "metadata": {
        "id": "6GI1f5Gh5Xp9",
        "colab": {
          "base_uri": "https://localhost:8080/"
        },
        "outputId": "87f7c225-789a-42d8-891b-d6efa8e81b73"
      },
      "source": [
        "# Create the model\n",
        "model = XGBRegressor(objective ='reg:squarederror',\n",
        "                     seed=model_seed,\n",
        "                     n_estimators=n_estimators,\n",
        "                     max_depth=max_depth,\n",
        "                     learning_rate=learning_rate,\n",
        "                     min_child_weight=min_child_weight,\n",
        "                     subsample=subsample,\n",
        "                     colsample_bytree=colsample_bytree,\n",
        "                     colsample_bylevel=colsample_bylevel,\n",
        "                     gamma=gamma)\n",
        "\n",
        "# Train the regressor\n",
        "model.fit(X_train_scaled.to_numpy(), y_train_scaled.to_numpy())"
      ],
      "execution_count": null,
      "outputs": [
        {
          "output_type": "execute_result",
          "data": {
            "text/plain": [
              "XGBRegressor(base_score=0.5, booster='gbtree', colsample_bylevel=1,\n",
              "             colsample_bynode=1, colsample_bytree=1, gamma=0,\n",
              "             importance_type='gain', learning_rate=0.1, max_delta_step=0,\n",
              "             max_depth=3, min_child_weight=1, missing=None, n_estimators=100,\n",
              "             n_jobs=1, nthread=None, objective='reg:squarederror',\n",
              "             random_state=0, reg_alpha=0, reg_lambda=1, scale_pos_weight=1,\n",
              "             seed=100, silent=None, subsample=1, verbosity=1)"
            ]
          },
          "metadata": {
            "tags": []
          },
          "execution_count": 42
        }
      ]
    },
    {
      "cell_type": "markdown",
      "metadata": {
        "id": "dTCEctLz5Xp-"
      },
      "source": [
        "Predict on train set"
      ]
    },
    {
      "cell_type": "code",
      "metadata": {
        "id": "HwMSxgcM5Xp_",
        "colab": {
          "base_uri": "https://localhost:8080/"
        },
        "outputId": "f2b84d80-ab48-4dbc-87ac-e40f2447b6cd"
      },
      "source": [
        "# Do prediction on train set\n",
        "est_scaled = model.predict(X_train_scaled.to_numpy())\n",
        "est = est_scaled * math.sqrt(scaler.var_[0]) + scaler.mean_[0]\n",
        "\n",
        "# Calculate RMSE\n",
        "print(\"RMSE on train set = %0.3f\" % math.sqrt(mean_squared_error(y_train, est)))\n",
        "\n",
        "# Calculate MAPE\n",
        "print(\"MAPE on train set = %0.3f%%\" % get_mape(y_train, est))"
      ],
      "execution_count": null,
      "outputs": [
        {
          "output_type": "stream",
          "text": [
            "RMSE on train set = 0.669\n",
            "MAPE on train set = 0.488%\n"
          ],
          "name": "stdout"
        }
      ]
    },
    {
      "cell_type": "code",
      "metadata": {
        "id": "7wzxIgQP5Xp_",
        "colab": {
          "base_uri": "https://localhost:8080/",
          "height": 507
        },
        "outputId": "61d3078f-fdf1-419a-a7c6-1919233fa03e"
      },
      "source": [
        "# Plot adjusted close over time\n",
        "rcParams['figure.figsize'] = 10, 8 # width 10, height 8\n",
        "\n",
        "est_df = pd.DataFrame({'est': est, \n",
        "                       'date': train['date']})\n",
        "\n",
        "ax = train.plot(x='date', y='close', style='b-', grid=True)\n",
        "ax = test.plot(x='date', y='close', style='g-', grid=True, ax=ax)\n",
        "ax = est_df.plot(x='date', y='est', style='r-', grid=True, ax=ax)\n",
        "ax.legend(['train', 'test', 'predictions'])\n",
        "ax.set_xlabel(\"date\")\n",
        "ax.set_ylabel(\"USD\")\n",
        "ax.set_title('Without scaling')"
      ],
      "execution_count": null,
      "outputs": [
        {
          "output_type": "execute_result",
          "data": {
            "text/plain": [
              "Text(0.5, 1.0, 'Without scaling')"
            ]
          },
          "metadata": {
            "tags": []
          },
          "execution_count": 44
        },
        {
          "output_type": "display_data",
          "data": {
            "image/png": "[encoded data removed]",
            "text/plain": [
              "<Figure size 720x576 with 1 Axes>"
            ]
          },
          "metadata": {
            "tags": [],
            "needs_background": "light"
          }
        }
      ]
    },
    {
      "cell_type": "markdown",
      "metadata": {
        "id": "N74rfe3e5XqA"
      },
      "source": [
        "Predict on test set using recursive forecasting"
      ]
    },
    {
      "cell_type": "code",
      "metadata": {
        "scrolled": true,
        "id": "SOECzqN75XqA",
        "colab": {
          "base_uri": "https://localhost:8080/"
        },
        "outputId": "5f816f02-f621-439f-b23f-9150b3c9b49f"
      },
      "source": [
        "# Do prediction on test set\n",
        "est_scaled = pred_xgboost(model, train_scaled['close'].to_numpy(), N, H)\n",
        "est = est_scaled * math.sqrt(scaler.var_[0]) + scaler.mean_[0]\n",
        "\n",
        "print(\"For forecast horizon %d, predicting on day %d, date %s, the RMSE is %f\" % (H, i, df.iloc[i]['date'], get_rmse(df[i:i+H]['close'], est)))\n",
        "print(\"For forecast horizon %d, predicting on day %d, date %s, the mean MAPE is %f\" % (H, i, df.iloc[i]['date'], get_mape(df[i:i+H]['close'], est)))\n",
        "print(\"For forecast horizon %d, predicting on day %d, date %s, the mean MAE is %f\" % (H, i, df.iloc[i]['date'], get_mae(df[i:i+H]['close'], est)))"
      ],
      "execution_count": null,
      "outputs": [
        {
          "output_type": "stream",
          "text": [
            "For forecast horizon 21, predicting on day 1008, date 2017-01-06 00:00:00, the RMSE is 0.948220\n",
            "For forecast horizon 21, predicting on day 1008, date 2017-01-06 00:00:00, the mean MAPE is 0.651475\n",
            "For forecast horizon 21, predicting on day 1008, date 2017-01-06 00:00:00, the mean MAE is 0.767399\n"
          ],
          "name": "stdout"
        }
      ]
    },
    {
      "cell_type": "code",
      "metadata": {
        "id": "bxnkMFrj5XqA",
        "colab": {
          "base_uri": "https://localhost:8080/",
          "height": 491
        },
        "outputId": "14f6c276-caf5-49ea-f686-79007422c1f1"
      },
      "source": [
        "# Plot adjusted close over time\n",
        "rcParams['figure.figsize'] = 10, 8 # width 10, height 8\n",
        "\n",
        "est_df = pd.DataFrame({'est': est, \n",
        "                       'date': df[i:i+H]['date']})\n",
        "\n",
        "ax = train.plot(x='date', y='close', style='b-', grid=True)\n",
        "ax = test.plot(x='date', y='close', style='g-', grid=True, ax=ax)\n",
        "ax = est_df.plot(x='date', y='est', style='r-', grid=True, ax=ax)\n",
        "ax.legend(['train', 'test', 'predictions'])\n",
        "ax.set_xlabel(\"date\")\n",
        "ax.set_ylabel(\"USD\")"
      ],
      "execution_count": null,
      "outputs": [
        {
          "output_type": "execute_result",
          "data": {
            "text/plain": [
              "Text(0, 0.5, 'USD')"
            ]
          },
          "metadata": {
            "tags": []
          },
          "execution_count": 47
        },
        {
          "output_type": "display_data",
          "data": {
            "image/png": "[encoded data removed]",
            "text/plain": [
              "<Figure size 720x576 with 1 Axes>"
            ]
          },
          "metadata": {
            "tags": [],
            "needs_background": "light"
          }
        }
      ]
    },
    {
      "cell_type": "code",
      "metadata": {
        "scrolled": false,
        "id": "or52JcgU5XqB",
        "colab": {
          "base_uri": "https://localhost:8080/"
        },
        "outputId": "1a467fda-837f-4ef9-c106-105630ea42a8"
      },
      "source": [
        "# View a list of the features and their importance scores\n",
        "imp = list(zip(train[features], model.feature_importances_))\n",
        "imp.sort(key=lambda tup: tup[1]) \n",
        "imp[-10:]"
      ],
      "execution_count": null,
      "outputs": [
        {
          "output_type": "execute_result",
          "data": {
            "text/plain": [
              "[('close_lag_3', 0.012596778),\n",
              " ('close_lag_2', 0.08171536),\n",
              " ('close_lag_1', 0.90568787)]"
            ]
          },
          "metadata": {
            "tags": []
          },
          "execution_count": 48
        }
      ]
    },
    {
      "cell_type": "markdown",
      "metadata": {
        "collapsed": true,
        "id": "4rNTP8Ae5XqC"
      },
      "source": [
        "As can be seen XGBoost model performs well on training data but doesn't perform well on test data"
      ]
    },
    {
      "cell_type": "markdown",
      "metadata": {
        "id": "8Sf9K969Lvdj"
      },
      "source": [
        "**GANS**"
      ]
    },
    {
      "cell_type": "markdown",
      "metadata": {
        "id": "nPG8pR9Elduh"
      },
      "source": [
        "Importing required libraries"
      ]
    },
    {
      "cell_type": "code",
      "metadata": {
        "collapsed": true,
        "id": "8G5YPdpi5XqC"
      },
      "source": [
        "import keras\r\n",
        "from keras import layers\r\n",
        "import numpy as np\r\n",
        "import pandas as pd\r\n",
        "from sklearn.preprocessing import MinMaxScaler\r\n",
        "import copy"
      ],
      "execution_count": null,
      "outputs": []
    },
    {
      "cell_type": "markdown",
      "metadata": {
        "id": "xdYWWBVXl9bl"
      },
      "source": [
        "Making input and forecast sequence"
      ]
    },
    {
      "cell_type": "code",
      "metadata": {
        "id": "a_tlRQ2RLz0R"
      },
      "source": [
        "def series_to_supervised(data, n_in=1, n_out=1, dropnan=True):\r\n",
        "\tn_vars = 1 if type(data) is list else data.shape[1]\r\n",
        "\tdf = pd.DataFrame(data)\r\n",
        "\tcols, names = list(), list()\r\n",
        "\t# input sequence (t-n, ... t-1)\r\n",
        "\tfor i in range(n_in, 0, -1):\r\n",
        "\t\tcols.append(df.shift(i))\r\n",
        "\t\tnames += [('var%d(t-%d)' % (j + 1, i)) for j in range(n_vars)]\r\n",
        "\t# forecast sequence (t, t+1, ... t+n)\r\n",
        "\tfor i in range(0, n_out):\r\n",
        "\t\tcols.append(df.shift(-i))\r\n",
        "\t\tif i == 0:\r\n",
        "\t\t\tnames += [('var%d(t)' % (j + 1)) for j in range(n_vars)]\r\n",
        "\t\telse:\r\n",
        "\t\t\tnames += [('var%d(t+%d)' % (j + 1, i)) for j in range(n_vars)]\r\n",
        "\t# put it all together\r\n",
        "\tagg = pd.concat(cols, axis=1)\r\n",
        "\tagg.columns = names\r\n",
        "\t# drop rows with NaN values\r\n",
        "\tif dropnan:\r\n",
        "\t\tagg.dropna(inplace=True)\r\n",
        "\treturn agg"
      ],
      "execution_count": null,
      "outputs": []
    },
    {
      "cell_type": "markdown",
      "metadata": {
        "id": "5aaPyUOEmGPd"
      },
      "source": [
        "DataPreprocessing"
      ]
    },
    {
      "cell_type": "code",
      "metadata": {
        "id": "Ls9gUdBzL4DT"
      },
      "source": [
        "def data_preprocessing(step_size):\r\n",
        "\t\r\n",
        "\tdf_final = pd.read_csv('/content/results_AAPL_new.csv')\r\n",
        "\tdf_final.columns = ['Date', 'Open', 'High', 'Low', 'Close', 'Pct_change_raw', 'Compound_multiplied_raw']\r\n",
        "\t# avoid the data leakage problem\r\n",
        "\tdf_final['Pct_change'] = df_final['Pct_change_raw'].shift(1)\r\n",
        "\tdf_final.drop(['Pct_change_raw'], axis=1, inplace=True)\r\n",
        "\tdf_final['Compound_multiplied'] = df_final['Compound_multiplied_raw'].shift(1)\r\n",
        "\tdf_final.drop(['Compound_multiplied_raw'], axis=1, inplace=True)\r\n",
        "\tdf_final.dropna(axis=0, how='any', inplace=True)\r\n",
        "\tdataset = df_final\r\n",
        "\tdataset['Date'] = pd.to_datetime(dataset.Date, format='%Y-%m-%d')\r\n",
        "\tdataset.index = dataset['Date']\r\n",
        "\tdataset = dataset.sort_index(ascending=True, axis=0)\r\n",
        "\tdataset.drop(['Date'], axis=1, inplace=True)\r\n",
        "\t\r\n",
        "\tvalues = dataset.values #67*6\r\n",
        "\t# ensure all data is float\r\n",
        "\tvalues = values.astype('float32')\r\n",
        "\t# normalize features\r\n",
        "\tscaler = MinMaxScaler(feature_range=(0, 1))\r\n",
        "\tscaled = scaler.fit_transform(values)\r\n",
        "\t\r\n",
        "\t# frame as supervised learning\r\n",
        "\treframed = series_to_supervised(scaled, step_size, 1)  \r\n",
        "\tprint(reframed.shape)\r\n",
        "  # split into train and test sets\r\n",
        "\tvalues = reframed.values\r\n",
        "\t\r\n",
        "\tn_train_days = 61-1\r\n",
        "\ttrain = values[:n_train_days, :]\r\n",
        "\ttest = values[n_train_days:, :]\r\n",
        "\t\r\n",
        "\treturn train, test, scaler"
      ],
      "execution_count": null,
      "outputs": []
    },
    {
      "cell_type": "code",
      "metadata": {
        "id": "lxkWrpDxL9C1"
      },
      "source": [
        "step_size = 5\r\n",
        "feature_num = 6"
      ],
      "execution_count": null,
      "outputs": []
    },
    {
      "cell_type": "markdown",
      "metadata": {
        "id": "dkSdLxu4mQrl"
      },
      "source": [
        "Building generator"
      ]
    },
    {
      "cell_type": "code",
      "metadata": {
        "colab": {
          "base_uri": "https://localhost:8080/"
        },
        "id": "emiLYTW5MBqz",
        "outputId": "c39f4fb9-216b-4084-ad1b-b55f23a20153"
      },
      "source": [
        "generator_input = keras.Input(shape=(step_size,feature_num))\r\n",
        "x = layers.LSTM(75,return_sequences=True)(generator_input)\r\n",
        "#x = layers.Dropout(0.2)(x)\r\n",
        "x = layers.LSTM(25)(x)\r\n",
        "x = layers.Dense(1)(x)\r\n",
        "x = layers.LeakyReLU()(x)\r\n",
        "generator = keras.models.Model(generator_input, x)\r\n",
        "generator.summary()"
      ],
      "execution_count": null,
      "outputs": [
        {
          "output_type": "stream",
          "text": [
            "Model: \"functional_1\"\n",
            "_________________________________________________________________\n",
            "Layer (type)                 Output Shape              Param #   \n",
            "=================================================================\n",
            "input_1 (InputLayer)         [(None, 5, 6)]            0         \n",
            "_________________________________________________________________\n",
            "lstm (LSTM)                  (None, 5, 75)             24600     \n",
            "_________________________________________________________________\n",
            "lstm_1 (LSTM)                (None, 25)                10100     \n",
            "_________________________________________________________________\n",
            "dense (Dense)                (None, 1)                 26        \n",
            "_________________________________________________________________\n",
            "leaky_re_lu (LeakyReLU)      (None, 1)                 0         \n",
            "=================================================================\n",
            "Total params: 34,726\n",
            "Trainable params: 34,726\n",
            "Non-trainable params: 0\n",
            "_________________________________________________________________\n"
          ],
          "name": "stdout"
        }
      ]
    },
    {
      "cell_type": "markdown",
      "metadata": {
        "id": "21OrKEsFmVAr"
      },
      "source": [
        "Building discriminator"
      ]
    },
    {
      "cell_type": "code",
      "metadata": {
        "colab": {
          "base_uri": "https://localhost:8080/"
        },
        "id": "X8SbH1Q0ME4l",
        "outputId": "f5e73923-d582-4aef-b21b-2de87f91298d"
      },
      "source": [
        "discriminator_input = layers.Input(shape=(step_size+1,1))\r\n",
        "y = layers.Dense(72)(discriminator_input)\r\n",
        "y = layers.LeakyReLU(alpha=0.05)(y)\r\n",
        "y = layers.Dense(100)(y)\r\n",
        "y = layers.LeakyReLU(alpha=0.05)(y)\r\n",
        "y = layers.Dense(10)(y)\r\n",
        "y = layers.LeakyReLU(alpha=0.05)(y)\r\n",
        "y = layers.Dense(1,activation='sigmoid')(y)\r\n",
        "discriminator = keras.models.Model(discriminator_input, y)\r\n",
        "discriminator.summary()"
      ],
      "execution_count": null,
      "outputs": [
        {
          "output_type": "stream",
          "text": [
            "Model: \"functional_3\"\n",
            "_________________________________________________________________\n",
            "Layer (type)                 Output Shape              Param #   \n",
            "=================================================================\n",
            "input_2 (InputLayer)         [(None, 6, 1)]            0         \n",
            "_________________________________________________________________\n",
            "dense_1 (Dense)              (None, 6, 72)             144       \n",
            "_________________________________________________________________\n",
            "leaky_re_lu_1 (LeakyReLU)    (None, 6, 72)             0         \n",
            "_________________________________________________________________\n",
            "dense_2 (Dense)              (None, 6, 100)            7300      \n",
            "_________________________________________________________________\n",
            "leaky_re_lu_2 (LeakyReLU)    (None, 6, 100)            0         \n",
            "_________________________________________________________________\n",
            "dense_3 (Dense)              (None, 6, 10)             1010      \n",
            "_________________________________________________________________\n",
            "leaky_re_lu_3 (LeakyReLU)    (None, 6, 10)             0         \n",
            "_________________________________________________________________\n",
            "dense_4 (Dense)              (None, 6, 1)              11        \n",
            "=================================================================\n",
            "Total params: 8,465\n",
            "Trainable params: 8,465\n",
            "Non-trainable params: 0\n",
            "_________________________________________________________________\n"
          ],
          "name": "stdout"
        }
      ]
    },
    {
      "cell_type": "code",
      "metadata": {
        "id": "zNp58dC8MIe_"
      },
      "source": [
        "discriminator_optimizer = keras.optimizers.RMSprop(lr=8e-4, clipvalue=1.0, decay=1e-8)\r\n",
        "discriminator.compile(optimizer=discriminator_optimizer, loss='binary_crossentropy')"
      ],
      "execution_count": null,
      "outputs": []
    },
    {
      "cell_type": "code",
      "metadata": {
        "colab": {
          "base_uri": "https://localhost:8080/"
        },
        "id": "AbCsLHtoMNmo",
        "outputId": "1b4da676-2fba-4081-a2b3-dc02f5752025"
      },
      "source": [
        "discriminator.trainable = False\r\n",
        "gan_input = keras.Input(shape=(step_size, feature_num))\r\n",
        "gan_output = discriminator(generator(gan_input))\r\n",
        "gan = keras.models.Model(gan_input, gan_output)\r\n",
        "gan_optimizer = keras.optimizers.RMSprop(lr=4e-4, clipvalue=1.0, decay=1e-8)\r\n",
        "gan.compile(optimizer=gan_optimizer, loss='binary_crossentropy')"
      ],
      "execution_count": null,
      "outputs": [
        {
          "output_type": "stream",
          "text": [
            "WARNING:tensorflow:Model was constructed with shape (None, 6, 1) for input Tensor(\"input_2:0\", shape=(None, 6, 1), dtype=float32), but it was called on an input with incompatible shape (None, 1, 1).\n"
          ],
          "name": "stdout"
        }
      ]
    },
    {
      "cell_type": "markdown",
      "metadata": {
        "id": "-593eDtxmmJ0"
      },
      "source": [
        "Defining training and test set"
      ]
    },
    {
      "cell_type": "code",
      "metadata": {
        "colab": {
          "base_uri": "https://localhost:8080/"
        },
        "id": "h-Tt4EsIMQYz",
        "outputId": "8f90502b-d82f-4ac2-9d31-1bc03a77199d"
      },
      "source": [
        "train,test,scaler = data_preprocessing(step_size)\r\n",
        "# split into input and outputs\r\n",
        "n_obs = step_size * feature_num\r\n",
        "train_X, train_Y = train[:, :n_obs], train[:, -feature_num] #choose the first feature,namely 'open price'\r\n",
        "test_X, test_Y = test[:, :n_obs], test[:, -feature_num]  # !!!!!!!!!!!!!!!\r\n",
        "print(train_X.shape, len(train_X), train_Y.shape) \r\n",
        "# reshape input to be 3D [samples, timesteps, features]\r\n",
        "trainX = train_X.reshape((train_X.shape[0], step_size, feature_num))\r\n",
        "testX = test_X.reshape((test_X.shape[0], step_size, feature_num))"
      ],
      "execution_count": null,
      "outputs": [
        {
          "output_type": "stream",
          "text": [
            "(65, 36)\n",
            "(60, 30) 60 (60,)\n"
          ],
          "name": "stdout"
        }
      ]
    },
    {
      "cell_type": "markdown",
      "metadata": {
        "id": "GeVQQbZamqBx"
      },
      "source": [
        "Training GAN"
      ]
    },
    {
      "cell_type": "code",
      "metadata": {
        "colab": {
          "base_uri": "https://localhost:8080/"
        },
        "id": "uC-PwU8LMUVF",
        "outputId": "c93acc77-1820-41ed-9ca9-6ce44fcbda85"
      },
      "source": [
        "iterations = 61-1\r\n",
        "batch_size = 1\r\n",
        "start = 0\r\n",
        "final = []\r\n",
        "\r\n",
        "for step in range(iterations):\r\n",
        "\tprint(step)\r\n",
        "\ttemp_X = copy.deepcopy(trainX[step])\r\n",
        "\ttemp_X = temp_X.reshape(batch_size,step_size,feature_num)\r\n",
        "\ttemp_Y = copy.deepcopy(train_Y[step])\r\n",
        "\ttemp_Y = temp_Y.reshape(batch_size,1)\r\n",
        "\tpredictions = generator.predict(temp_X)\r\n",
        "\t\r\n",
        "\tfor i in range(25):\r\n",
        "\t\taaa = trainX[step]\r\n",
        "\t\tinput_f = np.concatenate([np.transpose(np.array([aaa[:,0]])), predictions], 0)\r\n",
        "\t\tinput_r = np.concatenate([np.transpose(np.array([aaa[:,0]])), temp_Y], 0)\r\n",
        "\t\tinput = np.concatenate([[input_f],[input_r]])\r\n",
        "\t\tlabels = np.concatenate([[np.ones((6, 1))], [np.zeros((6, 1))]])\r\n",
        "\t\td_loss = discriminator.train_on_batch(input, labels)\r\n",
        "\t\r\n",
        "\tfor i in range(5):\r\n",
        "\t\tmisleading_targets = np.zeros((batch_size, 1))\r\n",
        "\t\ta_loss = gan.train_on_batch(temp_X, [misleading_targets])\r\n",
        "\tfinal.append(predictions[0])\r\n",
        "final = np.concatenate((np.array(final), train_X[:, -5:]), axis=1)\r\n",
        "final2 = np.concatenate((np.transpose(np.array([train_Y])), train_X[:, -5:]), axis=1)\r\n",
        "int1 = scaler.inverse_transform(final)\r\n",
        "int2 = scaler.inverse_transform(final2)\r\n",
        "MAPE_O1 = np.mean(np.abs((int2[:,0] - int1[:,0]) / int2[:,0]))\r\n",
        "rmse_01 = math.sqrt(np.mean(np.array(int2[:,0]-int1[:,0])**2))\r\n",
        "print('training result: MAPE',MAPE_O1)\r\n",
        "print('training result: MSE',rmse_01)"
      ],
      "execution_count": null,
      "outputs": [
        {
          "output_type": "stream",
          "text": [
            "0\n",
            "1\n",
            "2\n",
            "3\n",
            "4\n",
            "5\n",
            "6\n",
            "7\n",
            "8\n",
            "9\n",
            "10\n",
            "11\n",
            "12\n",
            "13\n",
            "14\n",
            "15\n",
            "16\n",
            "17\n",
            "18\n",
            "19\n",
            "20\n",
            "21\n",
            "22\n",
            "23\n",
            "24\n",
            "25\n",
            "26\n",
            "27\n",
            "28\n",
            "29\n",
            "30\n",
            "31\n",
            "32\n",
            "33\n",
            "34\n",
            "35\n",
            "36\n",
            "37\n",
            "38\n",
            "39\n",
            "40\n",
            "41\n",
            "42\n",
            "43\n",
            "44\n",
            "45\n",
            "46\n",
            "47\n",
            "48\n",
            "49\n",
            "50\n",
            "51\n",
            "52\n",
            "53\n",
            "54\n",
            "55\n",
            "56\n",
            "57\n",
            "58\n",
            "59\n",
            "training result: MAPE 0.013570619\n",
            "training result: MSE 2.100397403898362\n"
          ],
          "name": "stdout"
        }
      ]
    },
    {
      "cell_type": "markdown",
      "metadata": {
        "id": "45vWQHrqm5Tr"
      },
      "source": [
        "Prediction on test data"
      ]
    },
    {
      "cell_type": "code",
      "metadata": {
        "colab": {
          "base_uri": "https://localhost:8080/"
        },
        "id": "lQSwzDGXPgr2",
        "outputId": "3b14a5fc-c2f8-4dfe-d503-27054b313c6a"
      },
      "source": [
        "final = []\r\n",
        "for step in range(5):\r\n",
        "\ttemp_X = copy.deepcopy(testX[step])\r\n",
        "\ttemp_X = temp_X.reshape(batch_size, step_size, feature_num)\r\n",
        "\tpredictions = generator.predict(temp_X)\r\n",
        "\tfinal.append(predictions[0])\r\n",
        "\r\n",
        "final = np.concatenate((np.array(final), test_X[:, -5:]), axis=1)\r\n",
        "final2 = np.concatenate((np.transpose(np.array([test_Y])), test_X[:, -5:]), axis=1)\r\n",
        "int1 = scaler.inverse_transform(final)\r\n",
        "int2 = scaler.inverse_transform(final2)\r\n",
        "MAPE_O2 = np.mean(np.abs((int2[:,0] - int1[:,0]) / int2[:,0]))\r\n",
        "rmse_02 = math.sqrt(np.mean(np.array(int2[:,0]-int1[:,0])**2))\r\n",
        "print('testing result mape:',MAPE_O2)\r\n",
        "print('testing results rmse: ',rmse_02)"
      ],
      "execution_count": null,
      "outputs": [
        {
          "output_type": "stream",
          "text": [
            "testing result mape: 0.009761118\n",
            "testing results rmse:  1.0980244626445241\n"
          ],
          "name": "stdout"
        }
      ]
    },
    {
      "cell_type": "code",
      "metadata": {
        "id": "boYieuW7PxYO"
      },
      "source": [
        ""
      ],
      "execution_count": null,
      "outputs": []
    }
  ]
}